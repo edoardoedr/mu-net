{
 "cells": [
  {
   "cell_type": "code",
   "execution_count": null,
   "metadata": {},
   "outputs": [],
   "source": [
    "from CT_package.Read_CT.CT_dataset import CT_dataset\n",
    "from CT_package.AIxCT.deep_CT_class import deep_CT"
   ]
  },
  {
   "cell_type": "code",
   "execution_count": null,
   "metadata": {},
   "outputs": [],
   "source": [
    "dataset_train = CT_dataset(\"/../dataset_train/\", step = 5)\n",
    "\n",
    "dataset_train.print_info()"
   ]
  },
  {
   "cell_type": "code",
   "execution_count": null,
   "metadata": {},
   "outputs": [],
   "source": [
    "dataset_train.change_values([4, \"=\"], 1)"
   ]
  },
  {
   "cell_type": "code",
   "execution_count": null,
   "metadata": {},
   "outputs": [],
   "source": [
    "dataset_train.split_dataset()"
   ]
  },
  {
   "cell_type": "code",
   "execution_count": null,
   "metadata": {},
   "outputs": [],
   "source": [
    "parametri = {\"network\" : \"SEGNET\", \"tiles\": 400, \"batch_size\":32, \"numero_classi\":4, \"retrain\":\"\", \"num_epochs\":150}\n",
    "training = deep_CT(dataset_train, parametri)\n",
    "dataset_train.print_info()\n"
   ]
  },
  {
   "cell_type": "code",
   "execution_count": null,
   "metadata": {},
   "outputs": [],
   "source": [
    "training.train_dataset()"
   ]
  },
  {
   "cell_type": "code",
   "execution_count": null,
   "metadata": {},
   "outputs": [],
   "source": [
    "training.save_info()"
   ]
  },
  {
   "cell_type": "code",
   "execution_count": null,
   "metadata": {},
   "outputs": [],
   "source": [
    "dataset_test = CT_dataset(\"/../dataset_test/\", step = 1)\n",
    "dataset_test.print_info()"
   ]
  },
  {
   "cell_type": "code",
   "execution_count": null,
   "metadata": {},
   "outputs": [],
   "source": [
    "dataset_test.inizializza_test(\"/../output_dataset_train_02/train_parameters.json\")\n",
    "dataset_test.print_info()"
   ]
  },
  {
   "cell_type": "code",
   "execution_count": null,
   "metadata": {},
   "outputs": [],
   "source": [
    "testing = deep_CT(dataset_test)"
   ]
  },
  {
   "cell_type": "code",
   "execution_count": null,
   "metadata": {},
   "outputs": [],
   "source": [
    "testing.prediction(mode=\"2D\")\n",
    "dataset_test.save_prediction()"
   ]
  },
  {
   "cell_type": "code",
   "execution_count": null,
   "metadata": {},
   "outputs": [],
   "source": [
    "dataset_test.print_info()\n",
    "dataset_test.mode_filter_25D(filter_size = 4, tipologia = \"prediction\")\n",
    "dataset_test.fill_holes([1,3], tipologia=\"prediction\")\n",
    "dataset_test.mode_filter_25D(filter_size = 4, tipologia = \"prediction\")"
   ]
  },
  {
   "cell_type": "code",
   "execution_count": null,
   "metadata": {},
   "outputs": [],
   "source": [
    "dataset_test.performance()\n",
    "dataset_test.print_info()\n",
    "dataset_test.save_prediction()"
   ]
  }
 ],
 "metadata": {
  "kernelspec": {
   "display_name": "Edoardo_pytorch",
   "language": "python",
   "name": "python3"
  },
  "language_info": {
   "codemirror_mode": {
    "name": "ipython",
    "version": 3
   },
   "file_extension": ".py",
   "mimetype": "text/x-python",
   "name": "python",
   "nbconvert_exporter": "python",
   "pygments_lexer": "ipython3",
   "version": "3.10.8"
  }
 },
 "nbformat": 4,
 "nbformat_minor": 2
}
